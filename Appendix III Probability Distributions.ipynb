{
 "nbformat": 4,
 "nbformat_minor": 2,
 "metadata": {
  "language_info": {
   "name": "python",
   "codemirror_mode": {
    "name": "ipython",
    "version": 3
   }
  },
  "orig_nbformat": 2,
  "file_extension": ".py",
  "mimetype": "text/x-python",
  "name": "python",
  "npconvert_exporter": "python",
  "pygments_lexer": "ipython3",
  "version": 3
 },
 "cells": [
  {
   "cell_type": "markdown",
   "metadata": {},
   "source": [
    "# Probability Distributions"
   ]
  },
  {
   "cell_type": "markdown",
   "metadata": {},
   "source": [
    "## Bernoulli Distribution\n",
    "\n",
    "$\\begin{align*}\n",
    "Bernoulli(x|p) & = p^x (1-p)^{(1-x)} \\\\\n",
    "\\mathbb{E}(x) & = p \\\\\n",
    "var(x) & = p(1-p)\n",
    "\\end{align*}$\n",
    "\n",
    "简单的推导下期望和方差:\n",
    "\n",
    "$\n",
    "\\begin{align*}\n",
    "\\mathbb{E}(x) & = 1 \\times p + 0 \\times (1-p) = p \\\\\n",
    "var(x) & = \\frac12 [(1 - p)^2 \\cdot p + (0 - p)^2 \\cdot (1-p)] = \\frac12 (2p - 2p^2) = p(1-p)\n",
    "\\end{align*}\n",
    "$"
   ]
  }
 ]
}