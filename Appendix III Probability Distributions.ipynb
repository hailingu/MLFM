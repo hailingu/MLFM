{
 "nbformat": 4,
 "nbformat_minor": 2,
 "metadata": {
  "language_info": {
   "name": "python",
   "codemirror_mode": {
    "name": "ipython",
    "version": 3
   }
  },
  "orig_nbformat": 2,
  "file_extension": ".py",
  "mimetype": "text/x-python",
  "name": "python",
  "npconvert_exporter": "python",
  "pygments_lexer": "ipython3",
  "version": 3
 },
 "cells": [
  {
   "cell_type": "markdown",
   "metadata": {},
   "source": [
    "# Probability Distributions"
   ]
  },
  {
   "cell_type": "markdown",
   "metadata": {},
   "source": [
    "## Bernoulli Distribution\n",
    "\n",
    "$\\begin{align*}\n",
    "Bernoulli(x|p) & = p^x (1-p)^{(1-x)} \\\\\n",
    "\\mathbb{E}(x) & = p \\\\\n",
    "var(x) & = p(1-p)\n",
    "\\end{align*}$\n",
    "\n",
    "简单的推导下期望和方差:\n",
    "\n",
    "$\n",
    "\\begin{align*}\n",
    "\\mathbb{E}(x) & = 1 \\times p + 0 \\times (1-p) = p \\\\\n",
    "var(x) & = \\frac{1}{2} [(1 - p)^2 \\cdot p + (0 - p)^2 \\cdot (1-p)] = \\frac{1}{2} (2p - 2p^2) = p(1-p)\n",
    "\\end{align*}\n",
    "$\n",
    "\n",
    "如果使用 Maximum Likelihood Estimation 估计 p，前提是假设所有的数据是满足 i.i.d 的条件下，写出 Likelihood 函数：\n",
    "\n",
    "$\n",
    "p(\\mathbf{X}|p) = \\sum_i^N log~p(x_n|p) = \\sum_i^N [x_i log~p + (1-x_i) log~(1-p)]\n",
    "$\n",
    "\n",
    "因为对数函数是 convex 的，所以 Likelihood 函数也是 convex 的(因为 Likelihood 函数是 convex 函数连续累加)，那么满足使得 Likelihood 值最大的 p 在 $\\frac{\\partial}{\\partial p}p(\\mathbf{X}|p)=0$ 处。\n",
    "\n",
    "$\n",
    "\\begin{align*}\n",
    "\\frac{\\partial}{\\partial p}p(\\mathbf{X}|p) = & 0 \\\\\n",
    "\\Rightarrow & \\sum_i^N[x_i \\frac1p - (1-x_i)\\frac{1}{1-p}] = 0 \\\\\n",
    "\\Rightarrow & \\sum_i^N[\\frac{x_i - p}{p(1-p)}] = 0 \\\\\n",
    "\\Rightarrow & \\sum_i^N(x_i - p) = 0 \\\\\n",
    "\\Rightarrow & \\sum_i^N x_i = Np \\\\\n",
    "\\Rightarrow & p_{MLE} = \\frac{\\sum_i^N x_i}{N}\n",
    "\\end{align*}\n",
    "$\n",
    "\n",
    "$\\mathbb{E}(p_{MLE}) = \\mathbb{E}[\\frac{1}{N}\\sum_i^N x_i] = \\frac{1}{N} \\sum_i^N \\mathbb{E}[x_i] = p$"
   ]
  },
  {
   "cell_type": "markdown",
   "metadata": {},
   "source": []
  },
  {
   "cell_type": "code",
   "execution_count": null,
   "metadata": {},
   "outputs": [],
   "source": []
  }
 ]
}