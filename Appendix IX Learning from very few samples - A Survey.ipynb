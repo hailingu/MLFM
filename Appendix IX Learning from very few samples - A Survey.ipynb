{
 "metadata": {
  "language_info": {
   "codemirror_mode": {
    "name": "ipython",
    "version": 3
   },
   "file_extension": ".py",
   "mimetype": "text/x-python",
   "name": "python",
   "nbconvert_exporter": "python",
   "pygments_lexer": "ipython3",
   "version": 3
  },
  "orig_nbformat": 2
 },
 "nbformat": 4,
 "nbformat_minor": 2,
 "cells": [
  {
   "source": [
    "# Learning from Very Few Samples: A Survey"
   ],
   "cell_type": "markdown",
   "metadata": {}
  },
  {
   "source": [
    "## Abstract\n",
    "\n",
    "AI 和人类的一个显著的区别（demarcation）是人类很容易的（readily）可以通过少量的（handful）数据建立起对新奇知识的（novelty）认知，而 AI 往往需要大量的数据才能有泛化的能力。"
   ],
   "cell_type": "markdown",
   "metadata": {}
  },
  {
   "source": [
    "## Introduction\n",
    "\n",
    "人类的一个显著特点（hallmark）是通过少量的例子快速的建立起对新奇事物的认知。研究表明，人类通过少量的图像就能认识视觉对象，孩子可以在只遇到（encounter）一次的情况下记住一个新词。然而，最先进的（cutting-edge）的机器学习模型需要很多的数据，特别是把 AI 推到顶点的（climax）深度学习的方法。"
   ],
   "cell_type": "markdown",
   "metadata": {}
  },
  {
   "cell_type": "code",
   "execution_count": null,
   "metadata": {},
   "outputs": [],
   "source": []
  }
 ]
}