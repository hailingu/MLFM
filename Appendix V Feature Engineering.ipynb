{
 "nbformat": 4,
 "nbformat_minor": 2,
 "metadata": {
  "language_info": {
   "name": "python",
   "codemirror_mode": {
    "name": "ipython",
    "version": 3
   }
  },
  "orig_nbformat": 2,
  "file_extension": ".py",
  "mimetype": "text/x-python",
  "name": "python",
  "npconvert_exporter": "python",
  "pygments_lexer": "ipython3",
  "version": 3
 },
 "cells": [
  {
   "cell_type": "markdown",
   "metadata": {},
   "source": [
    "# Feature Engineering"
   ]
  },
  {
   "cell_type": "markdown",
   "metadata": {},
   "source": [
    "## Z-Score\n",
    "\n",
    "我常用 Z-Score 去除数据的量纲。它的公式：$z-score(x) = \\frac{x - \\mu}{\\delta}$，其中 $\\delta$ 是标准差，$\\mu$ 是均值。经过这样计算之后，原始的数据的量纲变成了以标准差计数。原本不同量纲的数据，这样处理之后也在同一量纲之下了。"
   ]
  },
  {
   "cell_type": "markdown",
   "metadata": {},
   "source": [
    "## Min-Max\n",
    "\n",
    "Min-Max 对数值的做法是把不同取值范围内的数据都归一化到 $[0,1]$ 区间内，计算公式：$Min-Max(x) = \\frac{x - x_{min}}{x_{max}-x_{min}}$。"
   ]
  },
  {
   "cell_type": "markdown",
   "metadata": {},
   "source": [
    "## Log 变换\n",
    "\n",
    "如果一个变量的方差与其均值线性相关，那么可以使用对数变换，计算公式：$Log(x) = log(x)$"
   ]
  },
  {
   "cell_type": "markdown",
   "metadata": {},
   "source": [
    "## Box-Cox 变换\n",
    "\n",
    "如果数据不太满足正态分布，那么可以考虑使用 Box-Cox 变换，计算公式：$Box-Cox(x)=\\frac{x^{\\lambda} - 1}{\\lambda}$，其中 $\\lambda \\neq 0$。"
   ]
  },
  {
   "cell_type": "code",
   "execution_count": null,
   "metadata": {},
   "outputs": [],
   "source": []
  }
 ]
}