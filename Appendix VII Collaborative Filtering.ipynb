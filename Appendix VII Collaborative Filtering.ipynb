{
 "cells": [
  {
   "cell_type": "markdown",
   "metadata": {},
   "source": [
    "# Collaborative Filtering"
   ]
  },
  {
   "cell_type": "markdown",
   "metadata": {},
   "source": [
    "准备数据集，使用 MovieLens 推荐的应用与开发和学习的 Small [数据集](http://files.grouplens.org/datasets/movielens/ml-latest-small.zip)。该数据集包含 600 位用户在 9000 个电影上的 100,000 个标签和 3600 个 Tag，这次不使用　Tag 只用打分数据。"
   ]
  },
  {
   "cell_type": "code",
   "execution_count": 2,
   "metadata": {},
   "outputs": [
    {
     "output_type": "stream",
     "name": "stdout",
     "text": "/home/hailingu/Git/MLFM\n"
    }
   ],
   "source": [
    "import os\n",
    "\n",
    "# working directory\n",
    "BASEDIR = os.getcwd()\n",
    "print(BASEDIR)"
   ]
  },
  {
   "cell_type": "markdown",
   "metadata": {},
   "source": [
    "读取 MovieLens 数据集，并且构造出 rating 矩阵。矩阵的行对应于用户，矩阵的列对应于电影。"
   ]
  },
  {
   "cell_type": "code",
   "execution_count": 3,
   "metadata": {
    "tags": [
     "outputPrepend",
     "outputPrepend",
     "outputPrepend",
     "outputPrepend",
     "outputPrepend",
     "outputPrepend",
     "outputPrepend",
     "outputPrepend",
     "outputPrepend",
     "outputPrepend",
     "outputPrepend",
     "outputPrepend",
     "outputPrepend",
     "outputPrepend",
     "outputPrepend",
     "outputPrepend",
     "outputPrepend",
     "outputPrepend",
     "outputPrepend",
     "outputPrepend",
     "outputPrepend",
     "outputPrepend",
     "outputPrepend",
     "outputPrepend",
     "outputPrepend",
     "outputPrepend",
     "outputPrepend",
     "outputPrepend",
     "outputPrepend",
     "outputPrepend",
     "outputPrepend",
     "outputPrepend",
     "outputPrepend",
     "outputPrepend",
     "outputPrepend",
     "outputPrepend",
     "outputPrepend",
     "outputPrepend",
     "outputPrepend",
     "outputPrepend",
     "outputPrepend",
     "outputPrepend",
     "outputPrepend",
     "outputPrepend",
     "outputPrepend",
     "outputPrepend",
     "outputPrepend",
     "outputPrepend",
     "outputPrepend",
     "outputPrepend",
     "outputPrepend",
     "outputPrepend",
     "outputPrepend",
     "outputPrepend",
     "outputPrepend",
     "outputPrepend",
     "outputPrepend",
     "outputPrepend",
     "outputPrepend",
     "outputPrepend",
     "outputPrepend",
     "outputPrepend",
     "outputPrepend",
     "outputPrepend",
     "outputPrepend",
     "outputPrepend",
     "outputPrepend",
     "outputPrepend",
     "outputPrepend"
    ]
   },
   "outputs": [],
   "source": [
    "import pandas as pd\n",
    "import numpy as np\n",
    "\n",
    "\n",
    "dataframe = pd.read_csv(BASEDIR + '/assets/datasets/ml-latest-small/ratings.csv')\n",
    "\n",
    "userId_dict = {}\n",
    "movieId_dict = {}\n",
    "\n",
    "userId_unique = dataframe.userId.unique()\n",
    "movieId_unique = dataframe.movieId.unique()\n",
    "\n",
    "\n",
    "idx = 0\n",
    "for n in range(userId_unique.shape[0]):\n",
    "    userId_dict[userId_unique[idx]] = idx\n",
    "    idx += 1\n",
    "\n",
    "idx = 0\n",
    "for n in range(movieId_unique.shape[0]):\n",
    "    movieId_dict[movieId_unique[idx]] = idx\n",
    "    idx += 1\n",
    "\n",
    "ratings = np.zeros(shape=(len(userId_dict), len(movieId_dict)))\n",
    "\n",
    "\n",
    "for row in dataframe.itertuples():\n",
    "    ratings[userId_dict[row.userId], movieId_dict[row.movieId]] = row.rating"
   ]
  },
  {
   "cell_type": "markdown",
   "metadata": {},
   "source": [
    "## UserCF \n",
    "\n",
    "根据用户对 movie 的打分，对任意一个用户 u，找出与其相似度最高的 N 个用户（这里就采用 Top 10），计算用户 u 对未看过电影 m 的分，计算方法为： $Rate(u, m)=\\frac{\\sum_{s \\in S} w_{u, s} Rate_{s, m}}{\\sum w_{u,s}}$\n",
    "\n",
    "所以先要计算 user 和 user 之间的相似度矩阵。"
   ]
  },
  {
   "cell_type": "code",
   "execution_count": 4,
   "metadata": {
    "tags": [
     "outputPrepend",
     "outputPrepend",
     "outputPrepend",
     "outputPrepend",
     "outputPrepend",
     "outputPrepend",
     "outputPrepend",
     "outputPrepend",
     "outputPrepend",
     "outputPrepend",
     "outputPrepend",
     "outputPrepend",
     "outputPrepend",
     "outputPrepend",
     "outputPrepend",
     "outputPrepend",
     "outputPrepend",
     "outputPrepend",
     "outputPrepend",
     "outputPrepend",
     "outputPrepend",
     "outputPrepend",
     "outputPrepend",
     "outputPrepend",
     "outputPrepend",
     "outputPrepend"
    ]
   },
   "outputs": [],
   "source": [
    "# first construct user-user collaborative matrix\n",
    "\n",
    "user_user_cm = np.zeros(shape=(len(userId_dict), len(userId_dict)))\n",
    "\n",
    "# set diagonal value to 1.0\n",
    "for i in range(len(userId_dict)):\n",
    "    user_user_cm[i, i] = 1.0\n",
    "\n",
    "\n",
    "for i in range(len(userId_dict)):\n",
    "    for j in range(i, len(userId_dict)):\n",
    "        v_i = ratings[i, :]\n",
    "        v_j = ratings[j, :]\n",
    "\n",
    "        similarity = np.dot(v_i, v_j) / (np.linalg.norm(v_i) * np.linalg.norm(v_j))\n",
    "\n",
    "        user_user_cm[i, j] = similarity\n",
    "        user_user_cm[j, i] = similarity"
   ]
  },
  {
   "cell_type": "markdown",
   "metadata": {},
   "source": [
    "在 user-user 相似度矩阵的基础之上，对于每一个 user， 找出与其相似的 Top N 个用户，然后通过这 N 个用户，填充 user 的对矩阵评分向量的缺失值。"
   ]
  },
  {
   "cell_type": "code",
   "execution_count": 5,
   "metadata": {},
   "outputs": [],
   "source": [
    "# create a new rating matrix\n",
    "usercf_ratings = np.zeros(shape=(len(userId_dict), len(movieId_dict)))"
   ]
  },
  {
   "cell_type": "code",
   "execution_count": 6,
   "metadata": {},
   "outputs": [
    {
     "output_type": "stream",
     "name": "stdout",
     "text": "[0. 0. 0. 0. 0. 0. 0. 0. 0. 0.]\n[4. 4. 4. 5. 5. 3. 5. 4. 5. 5.]\n"
    }
   ],
   "source": [
    "# for user 1, fill its rating vector\n",
    "N = 10\n",
    "\n",
    "top_n_idx = user_user_cm[1, :].argsort()[::-1][1:N + 1]\n",
    "sum_weights = 0.0\n",
    "\n",
    "for i in top_n_idx:\n",
    "    sum_weights += user_user_cm[1, i]\n",
    "\n",
    "for movieIdx in range(len(movieId_unique)):\n",
    "    if ratings[1, movieIdx] is 0.0:\n",
    "        for i in top_n_idx:\n",
    "            usercf_ratings[1, movieIdx] += user_user_cm[1, i] * ratings[i, movieIdx]\n",
    "        usercf_ratings[1, movieIdx] /= sum_weights\n",
    "    else:\n",
    "        usercf_ratings[1, movieIdx] = ratings[0, movieIdx]\n",
    "\n",
    "\n",
    "print(ratings[1, 0:10])\n",
    "print(usercf_ratings[1, 0:10])"
   ]
  },
  {
   "cell_type": "markdown",
   "metadata": {},
   "source": [
    "填充整个用户打分矩阵"
   ]
  },
  {
   "cell_type": "code",
   "execution_count": 7,
   "metadata": {},
   "outputs": [],
   "source": [
    "N = 5\n",
    "for i in range(len(userId_dict)):\n",
    "    top_n_idx = user_user_cm[i, :].argsort()[::-1][1:N + 1]\n",
    "    sum_weights = 0.0\n",
    "\n",
    "    for j in top_n_idx:\n",
    "        sum_weights += user_user_cm[i, j]\n",
    "\n",
    "    for movieIdx in range(len(movieId_unique)):\n",
    "        if ratings[i, movieIdx] is 0.0:\n",
    "            for j in top_n_idx:\n",
    "                usercf_ratings[i, movieIdx] += user_user_cm[i, j] * ratings[j, movieIdx]\n",
    "            usercf_ratings[i, movieIdx] /= sum_weights\n",
    "        else:\n",
    "            usercf_ratings[i, movieIdx] = ratings[i, movieIdx]"
   ]
  },
  {
   "cell_type": "markdown",
   "metadata": {},
   "source": [
    "在实际中，UserCF 会遇到两个问题：\n",
    "\n",
    "- 原始 rating 矩阵稀疏的话，相似矩阵的计算会有很大的偏差\n",
    "- 随着用户量的增长，需要 $O(N^2)$ 的存储和计算空间，这种规模是无法接受的"
   ]
  },
  {
   "cell_type": "markdown",
   "metadata": {},
   "source": [
    "# ItemCF"
   ]
  },
  {
   "cell_type": "markdown",
   "metadata": {},
   "source": [
    "根据观看过 movie 的 user，计算 movie 之间的相似度，得到 movie-movie 的相似度矩阵。然后根据 user 对 movie 的打分，找出相似度最高的 Top N 个 movie 给用户推荐。movie　和　movie　之间的相似度计算和　user 之间的不太一样：$w_{ij}=\\frac{N(i) \\cap N(j)}{\\sqrt{|N(i)||N(j)|}}$，\n",
    "\n",
    "先计算 movie 和 movie 之间的相似度矩阵。"
   ]
  },
  {
   "cell_type": "code",
   "execution_count": 8,
   "metadata": {},
   "outputs": [],
   "source": [
    "# first construct movie-movie collaborative matrix\n",
    "\n",
    "movie_movie_cm = np.zeros(shape=(len(movieId_dict), len(movieId_dict)))\n",
    "\n",
    "# set diagonal value to 1.0\n",
    "for i in range(len(movieId_dict)):\n",
    "    movie_movie_cm[i, i] = 1.0\n",
    "\n",
    "\n",
    "for i in range(len(movieId_dict)):\n",
    "    for j in range(i, len(movieId_dict)):\n",
    "        v_i = ratings[:, i]\n",
    "        v_j = ratings[:, j]\n",
    "\n",
    "        v_i[v_i > 0.0] = 1.0\n",
    "        v_j[v_j > 0.0] = 1.0\n",
    "\n",
    "        similarity = (1. / log(1 + np.dot(v_i, v_j))) / np.sqrt(np.linalg.norm(v_i, ord=1) * np.linalg.norm(v_j, ord=1))\n",
    "\n",
    "        movie_movie_cm[i, j] = similarity\n",
    "        movie_movie_cm[j, i] = similarity"
   ]
  },
  {
   "cell_type": "code",
   "execution_count": 9,
   "metadata": {},
   "outputs": [],
   "source": [
    "# create a new rating matrix\n",
    "itemcf_ratings = np.zeros(shape=(len(userId_dict), len(movieId_dict)))"
   ]
  },
  {
   "cell_type": "code",
   "execution_count": 11,
   "metadata": {},
   "outputs": [
    {
     "output_type": "stream",
     "name": "stdout",
     "text": "[1054  926  809  192  927 1047  915 1317 1250 1051]\n"
    }
   ],
   "source": [
    "# for user 1, find recommended movies\n",
    "N = 10\n",
    "\n",
    "user = ratings[1, :]\n",
    "user_positive_movie = np.argwhere(user > 0)\n",
    "for i in user_positive_movie:\n",
    "    for j in range(len(movieId_dict)):\n",
    "        itemcf_ratings[1, j] += ratings[1, i] * movie_movie_cm[i, j]\n",
    "    for q in user_positive_movie:\n",
    "        itemcf_ratings[1, q] = 0 \n",
    "\n",
    "top_n_idx = itemcf_ratings[1, :].argsort()[::-1][1:N + 1]\n",
    "print(top_n_idx)"
   ]
  },
  {
   "cell_type": "markdown",
   "metadata": {},
   "source": [
    "试着填充整个打分矩阵"
   ]
  },
  {
   "cell_type": "code",
   "execution_count": null,
   "metadata": {},
   "outputs": [],
   "source": [
    "for u in range(len(userId_unique)):\n",
    "    user = ratings[u, :]\n",
    "    user_positive_movie = np.argwhere(user > 0)\n",
    "    for i in user_positive_movie:\n",
    "        for j in range(len(movieId_dict)):\n",
    "            itemcf_ratings[1, j] += ratings[1, i] * movie_movie_cm[i, j]\n",
    "        for q in user_positive_movie:\n",
    "            itemcf_ratings[1, q] = 0"
   ]
  },
  {
   "cell_type": "markdown",
   "metadata": {},
   "source": [
    "itemcf 的特点\n",
    "\n",
    "- 推荐很稳定，这是优点也是缺点。因为总是会推荐一模一样的东西。\n",
    "- 计算和存储空间虽然也是 $O(N^2)$，但是因为　item 增长的比较慢，所以会比　usercf　好很多。\n",
    "- 依然无法处理稀疏性的问题\n",
    "\n",
    "就　usercf　和　itemcf 来说都已经算是上古的推荐算法了。在实际中已经很少被使用了。"
   ]
  }
 ],
 "metadata": {
  "language_info": {
   "codemirror_mode": {
    "name": "ipython",
    "version": 3
   },
   "file_extension": ".py",
   "mimetype": "text/x-python",
   "name": "python",
   "nbconvert_exporter": "python",
   "pygments_lexer": "ipython3",
   "version": "3.6.10-final"
  },
  "orig_nbformat": 2,
  "kernelspec": {
   "name": "python361064bitmlfmconda074209e3e26947db8e6ceda371beb7cc",
   "display_name": "Python 3.6.10 64-bit ('mlfm': conda)"
  }
 },
 "nbformat": 4,
 "nbformat_minor": 2
}