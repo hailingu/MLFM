{
 "cells": [
  {
   "cell_type": "markdown",
   "metadata": {},
   "source": [
    "# Collaborative Filtering"
   ]
  },
  {
   "cell_type": "markdown",
   "metadata": {},
   "source": [
    "准备数据集，使用 MovieLens 推荐的应用与开发和学习的 Small [数据集](http://files.grouplens.org/datasets/movielens/ml-latest-small.zip)。该数据集包含 600 位用户在 9000 个电影上的 100,000 个标签和 3600 个 Tag。"
   ]
  },
  {
   "cell_type": "code",
   "execution_count": 1,
   "metadata": {},
   "outputs": [
    {
     "output_type": "stream",
     "name": "stdout",
     "text": "/home/hailingu/Git/MLFM\n"
    }
   ],
   "source": [
    "import os\n",
    "\n",
    "# working directory\n",
    "BASEDIR = os.getcwd()\n",
    "print(BASEDIR)"
   ]
  },
  {
   "cell_type": "markdown",
   "metadata": {},
   "source": [
    "读取 MovieLens 数据集，并且构造出 rating 矩阵。矩阵的行对应于用户，矩阵的列对应于电影。"
   ]
  },
  {
   "cell_type": "code",
   "execution_count": 2,
   "metadata": {
    "tags": [
     "outputPrepend",
     "outputPrepend",
     "outputPrepend",
     "outputPrepend",
     "outputPrepend",
     "outputPrepend",
     "outputPrepend",
     "outputPrepend",
     "outputPrepend",
     "outputPrepend",
     "outputPrepend",
     "outputPrepend",
     "outputPrepend",
     "outputPrepend",
     "outputPrepend",
     "outputPrepend",
     "outputPrepend",
     "outputPrepend",
     "outputPrepend",
     "outputPrepend",
     "outputPrepend",
     "outputPrepend",
     "outputPrepend",
     "outputPrepend",
     "outputPrepend",
     "outputPrepend",
     "outputPrepend",
     "outputPrepend",
     "outputPrepend",
     "outputPrepend",
     "outputPrepend",
     "outputPrepend",
     "outputPrepend",
     "outputPrepend",
     "outputPrepend",
     "outputPrepend",
     "outputPrepend",
     "outputPrepend",
     "outputPrepend",
     "outputPrepend",
     "outputPrepend",
     "outputPrepend",
     "outputPrepend",
     "outputPrepend",
     "outputPrepend",
     "outputPrepend",
     "outputPrepend",
     "outputPrepend",
     "outputPrepend",
     "outputPrepend",
     "outputPrepend",
     "outputPrepend",
     "outputPrepend",
     "outputPrepend",
     "outputPrepend",
     "outputPrepend",
     "outputPrepend",
     "outputPrepend",
     "outputPrepend",
     "outputPrepend",
     "outputPrepend",
     "outputPrepend",
     "outputPrepend",
     "outputPrepend",
     "outputPrepend",
     "outputPrepend",
     "outputPrepend",
     "outputPrepend",
     "outputPrepend"
    ]
   },
   "outputs": [],
   "source": [
    "import pandas as pd\n",
    "import numpy as np\n",
    "\n",
    "\n",
    "dataframe = pd.read_csv(BASEDIR + '/assets/datasets/ml-latest-small/ratings.csv')\n",
    "\n",
    "userId_dict = {}\n",
    "movieId_dict = {}\n",
    "\n",
    "userId_unique = dataframe.userId.unique()\n",
    "movieId_unique = dataframe.movieId.unique()\n",
    "\n",
    "\n",
    "idx = 0\n",
    "for n in range(userId_unique.shape[0]):\n",
    "    userId_dict[userId_unique[idx]] = idx\n",
    "    idx += 1\n",
    "\n",
    "idx = 0\n",
    "for n in range(movieId_unique.shape[0]):\n",
    "    movieId_dict[movieId_unique[idx]] = idx\n",
    "    idx += 1\n",
    "\n",
    "ratings = np.zeros(shape=(len(userId_dict), len(movieId_dict)))\n",
    "\n",
    "\n",
    "for row in dataframe.itertuples():\n",
    "    ratings[userId_dict[row.userId], movieId_dict[row.movieId]] = row.rating"
   ]
  },
  {
   "cell_type": "markdown",
   "metadata": {},
   "source": [
    "## UserCF \n",
    "\n",
    "根据用户对 movie 的打分，对任意一个用户 u，找出与其相似度最高的 N 个用户（这里就采用 Top 10），计算用户 u 对未看过电影 m 的分，计算方法为： $Rate(u, m)=\\frac{\\sum_{s \\in S} w_{u, s} Rate_{s, m}}{\\sum w_{u,s}}$\n",
    "\n",
    "所以先要计算 user 和 user 之间的相似度矩阵。"
   ]
  },
  {
   "cell_type": "code",
   "execution_count": 3,
   "metadata": {
    "tags": [
     "outputPrepend",
     "outputPrepend",
     "outputPrepend",
     "outputPrepend",
     "outputPrepend",
     "outputPrepend",
     "outputPrepend",
     "outputPrepend",
     "outputPrepend",
     "outputPrepend",
     "outputPrepend",
     "outputPrepend",
     "outputPrepend",
     "outputPrepend",
     "outputPrepend",
     "outputPrepend",
     "outputPrepend",
     "outputPrepend",
     "outputPrepend",
     "outputPrepend",
     "outputPrepend",
     "outputPrepend",
     "outputPrepend",
     "outputPrepend",
     "outputPrepend",
     "outputPrepend"
    ]
   },
   "outputs": [],
   "source": [
    "# first construct user-user collaborative matrix\n",
    "\n",
    "user_user_cm = np.zeros(shape=(len(userId_dict), len(userId_dict)))\n",
    "\n",
    "# set diagonal value to 1.0\n",
    "for i in range(len(userId_dict)):\n",
    "    user_user_cm[i, i] = 1.0\n",
    "\n",
    "\n",
    "for i in range(len(userId_dict)):\n",
    "    for j in range(i, len(userId_dict)):\n",
    "        v_i = ratings[i, :]\n",
    "        v_j = ratings[j, :]\n",
    "\n",
    "        similarity = np.dot(v_i, v_j) / (np.linalg.norm(v_i) * np.linalg.norm(v_j))\n",
    "\n",
    "        user_user_cm[i, j] = similarity\n",
    "        user_user_cm[j, i] = similarity"
   ]
  },
  {
   "cell_type": "markdown",
   "metadata": {},
   "source": [
    "在 user-user 相似度矩阵的基础之上，对于每一个 user， 找出与其相似的 Top N 个用户，然后通过这 N 个用户，填充 user 的对矩阵评分向量的缺失值。"
   ]
  },
  {
   "cell_type": "code",
   "execution_count": 4,
   "metadata": {},
   "outputs": [],
   "source": [
    "# create a new rating matrix\n",
    "filled_ratings = np.zeros(shape=(len(userId_dict), len(movieId_dict)))"
   ]
  },
  {
   "cell_type": "code",
   "execution_count": 5,
   "metadata": {},
   "outputs": [
    {
     "output_type": "stream",
     "name": "stdout",
     "text": "[0. 0. 0. 0. 0. 0. 0. 0. 0. 0.]\n[4. 4. 4. 5. 5. 3. 5. 4. 5. 5.]\n"
    }
   ],
   "source": [
    "# for user 0, fill its rating vector\n",
    "N = 10\n",
    "\n",
    "top_n_idx = user_user_cm[1, :].argsort()[::-1][1:N + 1]\n",
    "sum_weights = 0.0\n",
    "\n",
    "for i in top_n_idx:\n",
    "    sum_weights += user_user_cm[1, i]\n",
    "\n",
    "for movieIdx in range(len(movieId_unique)):\n",
    "    if ratings[1, movieIdx] is 0.0:\n",
    "        for i in top_n_idx:\n",
    "            filled_ratings[1, movieIdx] += user_user_cm[1, i] * ratings[i, movieIdx]\n",
    "        filled_ratings[1, movieIdx] /= sum_weights\n",
    "    else:\n",
    "        filled_ratings[1, movieIdx] = ratings[0, movieIdx]\n",
    "\n",
    "\n",
    "print(ratings[1, 0:10])\n",
    "print(filled_ratings[1, 0:10])"
   ]
  },
  {
   "cell_type": "markdown",
   "metadata": {},
   "source": [
    "填充整个用户打分矩阵"
   ]
  },
  {
   "cell_type": "code",
   "execution_count": 6,
   "metadata": {},
   "outputs": [],
   "source": [
    "N = 5\n",
    "for i in range(len(userId_dict)):\n",
    "    top_n_idx = user_user_cm[i, :].argsort()[::-1][1:N + 1]\n",
    "    sum_weights = 0.0\n",
    "\n",
    "    for j in top_n_idx:\n",
    "        sum_weights += user_user_cm[i, j]\n",
    "\n",
    "    for movieIdx in range(len(movieId_unique)):\n",
    "        if ratings[i, movieIdx] is 0.0:\n",
    "            for j in top_n_idx:\n",
    "                filled_ratings[i, movieIdx] += user_user_cm[i, j] * ratings[j, movieIdx]\n",
    "            filled_ratings[i, movieIdx] /= sum_weights\n",
    "        else:\n",
    "            filled_ratings[i, movieIdx] = ratings[i, movieIdx]"
   ]
  },
  {
   "cell_type": "markdown",
   "metadata": {},
   "source": [
    "# ItemCF"
   ]
  },
  {
   "cell_type": "code",
   "execution_count": null,
   "metadata": {},
   "outputs": [],
   "source": []
  }
 ],
 "metadata": {
  "language_info": {
   "codemirror_mode": {
    "name": "ipython",
    "version": 3
   },
   "file_extension": ".py",
   "mimetype": "text/x-python",
   "name": "python",
   "nbconvert_exporter": "python",
   "pygments_lexer": "ipython3",
   "version": "3.6.10-final"
  },
  "orig_nbformat": 2,
  "kernelspec": {
   "name": "python361064bitmlfmconda074209e3e26947db8e6ceda371beb7cc",
   "display_name": "Python 3.6.10 64-bit ('mlfm': conda)"
  }
 },
 "nbformat": 4,
 "nbformat_minor": 2
}