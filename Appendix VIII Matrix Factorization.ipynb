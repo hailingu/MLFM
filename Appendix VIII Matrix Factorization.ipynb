{
 "cells": [
  {
   "cell_type": "markdown",
   "metadata": {},
   "source": [
    "# Matrix Factorization\n",
    "\n",
    "在存储　user-item，　计算和存储　user-user　及　item-item 相似度矩阵的时候，最大的问题就是计算和存储的复杂度为　$O(MN)$。这次依然沿用　MovieLens　[数据集](http://files.grouplens.org/datasets/movielens/ml-latest-small.zip)。"
   ]
  },
  {
   "cell_type": "markdown",
   "metadata": {},
   "source": [
    "依然沿用之前的加载数据的过程"
   ]
  },
  {
   "cell_type": "code",
   "execution_count": 1,
   "metadata": {},
   "outputs": [
    {
     "output_type": "stream",
     "name": "stdout",
     "text": "/home/hailingu/Git/MLFM\n"
    }
   ],
   "source": [
    "import os\n",
    "import pandas as pd\n",
    "import numpy as np\n",
    "\n",
    "# working directory\n",
    "BASEDIR = os.getcwd()\n",
    "print(BASEDIR)\n",
    "\n",
    "\n",
    "dataframe = pd.read_csv(BASEDIR + '/assets/datasets/ml-latest-small/ratings.csv')\n",
    "\n",
    "userId_dict = {}\n",
    "movieId_dict = {}\n",
    "\n",
    "userId_unique = dataframe.userId.unique()\n",
    "movieId_unique = dataframe.movieId.unique()\n",
    "\n",
    "\n",
    "idx = 0\n",
    "for n in range(userId_unique.shape[0]):\n",
    "    userId_dict[userId_unique[idx]] = idx\n",
    "    idx += 1\n",
    "\n",
    "idx = 0\n",
    "for n in range(movieId_unique.shape[0]):\n",
    "    movieId_dict[movieId_unique[idx]] = idx\n",
    "    idx += 1\n",
    "\n",
    "ratings = np.zeros(shape=(len(userId_dict), len(movieId_dict)))\n",
    "\n",
    "\n",
    "for row in dataframe.itertuples():\n",
    "    ratings[userId_dict[row.userId], movieId_dict[row.movieId]] = row.rating"
   ]
  },
  {
   "cell_type": "markdown",
   "metadata": {},
   "source": [
    "矩阵分解的话，有几种做法：\n",
    "\n",
    "- 对方阵：可以使用　Eigen Decomposition\n",
    "- 使用　Singular Value Decomposition\n",
    "- 使用　Gradient Descent\n",
    "\n",
    "在这个地方，采用　Gradient Descent，使用这个方案的原因就是因为它是之前做法的一种延续。\n",
    "\n",
    "现在我们需要把　ratings　矩阵分解成两个矩阵，分别是　U 和　M, 其中　U 是一个　$m \\times k$　的矩阵，相应的 I 就是一个　$n \\times k$　的矩阵， $m, n$ 分别是　user 和　movie 的数量。"
   ]
  },
  {
   "cell_type": "code",
   "execution_count": null,
   "metadata": {},
   "outputs": [],
   "source": []
  }
 ],
 "metadata": {
  "language_info": {
   "codemirror_mode": {
    "name": "ipython",
    "version": 3
   },
   "file_extension": ".py",
   "mimetype": "text/x-python",
   "name": "python",
   "nbconvert_exporter": "python",
   "pygments_lexer": "ipython3",
   "version": "3.6.10-final"
  },
  "orig_nbformat": 2,
  "kernelspec": {
   "name": "python361064bitmlfmconda074209e3e26947db8e6ceda371beb7cc",
   "display_name": "Python 3.6.10 64-bit ('mlfm': conda)"
  }
 },
 "nbformat": 4,
 "nbformat_minor": 2
}