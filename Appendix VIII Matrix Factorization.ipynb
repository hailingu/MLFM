{
 "cells": [
  {
   "cell_type": "markdown",
   "metadata": {},
   "source": [
    "# Matrix Factorization\n",
    "\n",
    "在存储　user-item，　计算和存储　user-user　及　item-item 相似度矩阵的时候，最大的问题就是计算和存储的复杂度为　$O(MN)$。这次依然沿用　MovieLens　[数据集](http://files.grouplens.org/datasets/movielens/ml-latest-small.zip)。"
   ]
  },
  {
   "cell_type": "markdown",
   "metadata": {},
   "source": [
    "依然沿用之前的加载数据的过程"
   ]
  },
  {
   "cell_type": "code",
   "execution_count": 1,
   "metadata": {},
   "outputs": [
    {
     "output_type": "stream",
     "name": "stdout",
     "text": "/home/hailingu/Git/MLFM\n"
    }
   ],
   "source": [
    "import os\n",
    "import pandas as pd\n",
    "import numpy as np\n",
    "\n",
    "# working directory\n",
    "BASEDIR = os.getcwd()\n",
    "print(BASEDIR)\n",
    "\n",
    "\n",
    "dataframe = pd.read_csv(BASEDIR + '/assets/datasets/ml-latest-small/ratings.csv')\n",
    "\n",
    "userId_dict = {}\n",
    "movieId_dict = {}\n",
    "\n",
    "userId_unique = dataframe.userId.unique()\n",
    "movieId_unique = dataframe.movieId.unique()\n",
    "\n",
    "\n",
    "idx = 0\n",
    "for n in range(userId_unique.shape[0]):\n",
    "    userId_dict[userId_unique[idx]] = idx\n",
    "    idx += 1\n",
    "\n",
    "idx = 0\n",
    "for n in range(movieId_unique.shape[0]):\n",
    "    movieId_dict[movieId_unique[idx]] = idx\n",
    "    idx += 1\n",
    "\n",
    "ratings = np.zeros(shape=(len(userId_dict), len(movieId_dict)))\n",
    "\n",
    "\n",
    "for row in dataframe.itertuples():\n",
    "    ratings[userId_dict[row.userId], movieId_dict[row.movieId]] = row.rating"
   ]
  },
  {
   "cell_type": "markdown",
   "metadata": {},
   "source": [
    "矩阵分解的话，有几种做法：\n",
    "\n",
    "- 对方阵, 可以使用　Eigen Decomposition\n",
    "- 使用　Singular Value Decomposition\n",
    "- 使用　Gradient Descent\n",
    "\n",
    "在这个地方，采用　Gradient Descent，使用这个方案的原因就是因为它是之前做法的一种延续。\n",
    "\n",
    "现在我们需要把　ratings　矩阵分解成两个矩阵，分别是　U 和　M, 其中　U 是一个　$m \\times k$　的矩阵，相应的 I 就是一个　$k \\times n$　的矩阵， $m, n$ 分别是　user 和　movie 的数量。\n",
    "\n",
    "对于某一个用户　$i$　对电影　$j$ 的预计打分可以表示为 $\\hat{ratings_{ij}} = u_i \\cdot m_ｊ^T$，这里是向量的点乘，不是矩阵乘法，所以第二项可以写在前面，也可以写在后面。单个损失函数： $Loss_{ij} = \\frac{1}{2}(\\hat{ratings_{ij}} - ratings_{ij})^2$。\n",
    "\n",
    "Gradient 计算及更新：\n",
    "\n",
    "$\\begin{align*}\n",
    "u_i & = u_i - \\eta \\cdot (\\hat{ratings_{ij}} - ratings_{ij}) \\cdot m_j \\\\\n",
    "m_j & = m_j - \\eta \\cdot (\\hat{ratings_{ij}} - ratings_{ij}) \\cdot u_i\n",
    "\\end{align*}$\n",
    "\n",
    "如果写成矩阵处理的形式就是：\n",
    "\n",
    "$\\begin{align*}\n",
    "U & = U - \\eta \\cdot (U \\times M - ratings) \\times M^T \\\\\n",
    "M & = M - \\eta \\cdot U^T \\times (U \\times M - ratings) \n",
    "\\end{align*}$\n"
   ]
  },
  {
   "cell_type": "code",
   "execution_count": 2,
   "metadata": {},
   "outputs": [
    {
     "output_type": "stream",
     "name": "stdout",
     "text": "EPOCH: 0, loss: 8392133697.507488\nEPOCH: 30, loss: 928338586.768743\nEPOCH: 60, loss: 119758315.245776\nEPOCH: 90, loss: 21227786.737734\nEPOCH: 120, loss: 9025386.322319\nEPOCH: 150, loss: 7486919.731269\nEPOCH: 180, loss: 7268526.145244\nEPOCH: 210, loss: 7213732.626706\nEPOCH: 240, loss: 7179361.876418\nEPOCH: 270, loss: 7147686.020820\n[0. 0. 0. ... 0. 0. 0.]\n[-0.38198986  0.29601525 -0.30486487 ...  0.8878231  -0.57686675\n -0.21223052]\n"
    }
   ],
   "source": [
    "k = 150\n",
    "LEARNING_RATE = 1e-7\n",
    "\n",
    "EPOCH = 300\n",
    "U = np.random.uniform(0, 1, size=(len(userId_dict), k))\n",
    "M = np.random.uniform(0, 1, size=(k, len(movieId_dict)))\n",
    "\n",
    "PRINT_STEP = EPOCH / 10\n",
    "for epoch in range(EPOCH):\n",
    "    hat_ratings = np.dot(U, M)\n",
    "    loss = hat_ratings - ratings\n",
    "    U_copy = U.copy()\n",
    "    M_copy = M.copy()\n",
    "\n",
    "    U = U - LEARNING_RATE * np.dot(loss, M_copy.T)\n",
    "    M = M - LEARNING_RATE * np.dot(U_copy.T, loss)\n",
    "\n",
    "    if epoch % PRINT_STEP == 0:\n",
    "        print('EPOCH: %d, loss: %f' % (epoch, (loss * loss).sum()))\n",
    "\n",
    "recommend_matrix = np.dot(U, M)\n",
    "print(ratings[1, :])\n",
    "print(recommend_matrix[1, :])"
   ]
  },
  {
   "cell_type": "code",
   "execution_count": 3,
   "metadata": {},
   "outputs": [
    {
     "output_type": "stream",
     "name": "stdout",
     "text": "[4557  796 2111 9503  544]\n"
    }
   ],
   "source": [
    "N = 5\n",
    "top_n_idx = recommend_matrix[1, :].argsort()[::-1][1:N + 1]\n",
    "print(top_n_idx)"
   ]
  }
 ],
 "metadata": {
  "language_info": {
   "codemirror_mode": {
    "name": "ipython",
    "version": 3
   },
   "file_extension": ".py",
   "mimetype": "text/x-python",
   "name": "python",
   "nbconvert_exporter": "python",
   "pygments_lexer": "ipython3",
   "version": "3.6.10-final"
  },
  "orig_nbformat": 2,
  "kernelspec": {
   "name": "python361064bitmlfmconda074209e3e26947db8e6ceda371beb7cc",
   "display_name": "Python 3.6.10 64-bit ('mlfm': conda)"
  }
 },
 "nbformat": 4,
 "nbformat_minor": 2
}