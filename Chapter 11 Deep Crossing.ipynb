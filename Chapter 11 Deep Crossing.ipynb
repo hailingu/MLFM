{
 "cells": [
  {
   "cell_type": "markdown",
   "metadata": {},
   "source": [
    "# Deep Crossing\n",
    "\n",
    "该模型使用 Field 的概念，将每一个特征使用 Embedding 嵌入到低维度空间内。如果有 $n$ 个特征，那么需要把每一个维度 Embedding 后的结果拼接起来，最后送入残差网络，进行优化，得到最终的结果。"
   ]
  },
  {
   "cell_type": "code",
   "execution_count": 9,
   "metadata": {
    "tags": []
   },
   "outputs": [],
   "source": [
    "# load data\n",
    "\n",
    "import os\n",
    "\n",
    "BASEDIR = os.getcwd()\n",
    "\n",
    "field_tansformer = {}\n",
    "fields = []\n",
    "\n",
    "for i in range(18):\n",
    "    fields.append(set())\n",
    "\n",
    "\n",
    "with open(BASEDIR + '/assets/datasets/criteo_ctr/small_train.txt') as f:\n",
    "    line = f.readline()\n",
    "    line = line.strip('\\n')\n",
    "\n",
    "    while line:\n",
    "        elems = line.split(' ')\n",
    "\n",
    "        for i in range(1, len(elems)):\n",
    "            field, feature, value = elems[i].split(':')\n",
    "            field, feature = int(field), int(feature)\n",
    "            fields[field].add(feature)\n",
    "\n",
    "        line = f.readline()\n",
    "        line = line.strip('\\n')"
   ]
  },
  {
   "cell_type": "code",
   "execution_count": 10,
   "metadata": {},
   "outputs": [
    {
     "output_type": "execute_result",
     "data": {
      "text/plain": "MultiLabelBinarizer()"
     },
     "metadata": {},
     "execution_count": 10
    }
   ],
   "source": []
  }
 ],
 "metadata": {
  "language_info": {
   "codemirror_mode": {
    "name": "ipython",
    "version": 3
   },
   "file_extension": ".py",
   "mimetype": "text/x-python",
   "name": "python",
   "nbconvert_exporter": "python",
   "pygments_lexer": "ipython3",
   "version": "3.6.8-final"
  },
  "orig_nbformat": 2,
  "kernelspec": {
   "name": "python36864bitmlfmcondafca915a6e1ae4fb7ab8b19f2bd50bf32",
   "display_name": "Python 3.6.8 64-bit ('mlfm': conda)"
  }
 },
 "nbformat": 4,
 "nbformat_minor": 2
}