{
 "cells": [
  {
   "cell_type": "markdown",
   "metadata": {},
   "source": [
    "# Deep Crossing\n",
    "\n",
    "该模型使用 Field 的概念，将每一个特征使用 Embedding 嵌入到低维度空间内。如果有 $n$ 个特征，那么需要把每一个维度 Embedding 后的结果拼接起来，最后送入残差网络，进行优化，得到最终的结果。"
   ]
  },
  {
   "cell_type": "code",
   "execution_count": 1,
   "metadata": {
    "tags": []
   },
   "outputs": [],
   "source": [
    "# build field dict\n",
    "\n",
    "import os\n",
    "\n",
    "BASEDIR = os.getcwd()\n",
    "\n",
    "fields_dict = {}\n",
    "\n",
    "with open(BASEDIR + '/assets/datasets/criteo_ctr/small_train.txt') as f:\n",
    "    line = f.readline()\n",
    "    line = line.strip('\\n')\n",
    "\n",
    "    while line:\n",
    "        elems = line.split(' ')\n",
    "\n",
    "        for i in range(1, len(elems)):\n",
    "            field, feature, value = elems[i].split(':')\n",
    "            if field not in fields_dict:\n",
    "                fields_dict[field] = {}\n",
    "                fields_dict[field]['field'] = {feature: 0}\n",
    "                fields_dict[field]['last_idx'] = 0\n",
    "            elif feature not in fields_dict[field]['field']:\n",
    "                next_idx = fields_dict[field]['last_idx'] + 1\n",
    "                fields_dict[field]['field'][feature] = next_idx\n",
    "                fields_dict[field]['last_idx'] = next_idx\n",
    " \n",
    "        line = f.readline()\n",
    "        line = line.strip('\\n')\n",
    "\n",
    "for field in fields_dict.keys():\n",
    "    next_idx = fields_dict[field]['last_idx'] + 1\n",
    "    fields_dict[field]['field']['none'] = next_idx\n",
    "    fields_dict[field]['last_idx'] = next_idx"
   ]
  },
  {
   "cell_type": "code",
   "execution_count": 2,
   "metadata": {},
   "outputs": [
    {
     "output_type": "execute_result",
     "data": {
      "text/plain": "18"
     },
     "metadata": {},
     "execution_count": 2
    }
   ],
   "source": [
    "field_cnt = len(fields_dict)\n",
    "field_cnt"
   ]
  },
  {
   "cell_type": "code",
   "execution_count": 7,
   "metadata": {
    "tags": []
   },
   "outputs": [],
   "source": [
    "# build train data\n",
    "\n",
    "X_train = []\n",
    "y_train = []\n",
    "idx = 0\n",
    "with open(BASEDIR + '/assets/datasets/criteo_ctr/small_train.txt') as f:\n",
    "    line = f.readline()\n",
    "    line = line.strip('\\n')\n",
    "\n",
    "    while line:\n",
    "        elems = line.split(' ')\n",
    "        y_train.append(int(elems[0]))\n",
    "\n",
    "        X_train.append([])\n",
    "        for i in range(field_cnt):\n",
    "            X_train[idx].append([])\n",
    "\n",
    "        for i in range(1, len(elems)):\n",
    "            field, feature, value = elems[i].split(':')\n",
    "            field_idx = int(field)\n",
    "            X_train[idx][field_idx].append(fields_dict[field]['field'][feature])\n",
    "\n",
    "        for i in range(field_cnt):\n",
    "            if len(X_train[idx][i]) == 0:\n",
    "                X_train[idx][i].append(fields_dict[str(i)]['field']['none'])\n",
    "       \n",
    "        line = f.readline()\n",
    "        line = line.strip('\\n')\n",
    "        idx += 1\n"
   ]
  },
  {
   "cell_type": "code",
   "execution_count": null,
   "metadata": {},
   "outputs": [],
   "source": [
    "# build embedding layer\n",
    "\n",
    "import torch\n",
    "import torch.nn\n",
    "import torch.nn.functional as F\n",
    "\n",
    "\n",
    "filed_embeddings = []\n",
    "for i in range(field_idx):\n",
    "    filed_embeddings.append = nn.Embedding(1, 3)\n",
    "\n",
    "\n",
    "class DeepCrossing(nn.Module):\n",
    "\n",
    "    def __init__(self):\n",
    "        super(DeepCrossing, self).__init__()\n",
    "\n",
    "    "
   ]
  }
 ],
 "metadata": {
  "language_info": {
   "codemirror_mode": {
    "name": "ipython",
    "version": 3
   },
   "file_extension": ".py",
   "mimetype": "text/x-python",
   "name": "python",
   "nbconvert_exporter": "python",
   "pygments_lexer": "ipython3",
   "version": "3.6.8-final"
  },
  "orig_nbformat": 2,
  "kernelspec": {
   "name": "python36864bitmlfmcondafca915a6e1ae4fb7ab8b19f2bd50bf32",
   "display_name": "Python 3.6.8 64-bit ('mlfm': conda)"
  }
 },
 "nbformat": 4,
 "nbformat_minor": 2
}