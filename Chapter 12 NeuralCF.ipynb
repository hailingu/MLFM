{
 "metadata": {
  "language_info": {
   "codemirror_mode": {
    "name": "ipython",
    "version": 3
   },
   "file_extension": ".py",
   "mimetype": "text/x-python",
   "name": "python",
   "nbconvert_exporter": "python",
   "pygments_lexer": "ipython3",
   "version": 3
  },
  "orig_nbformat": 2
 },
 "nbformat": 4,
 "nbformat_minor": 2,
 "cells": [
  {
   "cell_type": "markdown",
   "metadata": {},
   "source": [
    "# NeuralCF\n",
    "\n",
    "这个模型有两个输入，第一个输入是用户的特征表示，是一个 One-Hot 编码的向量，另一个是物品的特征表示，也是一个 One-Hot 的向量，这两个输入向量分别表示为 $u$ 和 $i$。这两个输入向量分别进行 Embedding，得到两个稠密的向量，分别记为 $u'$ 和 $i'$，并且把 Embedding 过后的向量在第一个输入层之前进行拼接，然后送入第一个全连接层，接下来后面可以叠加多个全连接层，输出层根据需要是输出一个或者多个结果。\n",
    "\n",
    "*由于没有找到合适的数据集，这个模型只提供 PyTorch 的实现，就不提供可以运行的代码了。*"
   ]
  },
  {
   "cell_type": "code",
   "execution_count": null,
   "metadata": {},
   "outputs": [],
   "source": [
    "# PyTorch Version\n",
    "\n",
    "import numpy as np\n",
    "import torch\n",
    "import torch.nn as nn\n",
    "import torch.functional as F\n",
    "\n",
    "class NerualCF(nn.Module):\n",
    "\n",
    "    def __init__(self, user_input_dimension, item_input_dimension, embedding_size, layers):\n",
    "        super(NerualCF, self).__init__()\n",
    "        self.user_input_dimension = user_input_dimension\n",
    "        self.item_input_dimension = item_input_dimension\n",
    "        self.embedding_size = embedding_size\n",
    "        self.layers = layers\n",
    "\n",
    "        self.user_input_layer = nn.Linear(self.user_input_dimension, self.embedding_size).double()\n",
    "        self.item_input_layer = nn.Linear(self.item_input_dimension, self.embedding_size).double()\n",
    "\n",
    "        fc_layers = []\n",
    "        fc_layers.append(nn.Linear(self.embedding_size * 2, self.layers[0]).double())\n",
    "\n",
    "        for i in range(len(self.layers)):\n",
    "            fc_layers.append(nn.Linear(self.layers[i-1], self.layers[i]). double())\n",
    "\n",
    "        self.module = nn.Sequential(fc_layers)\n",
    "\n",
    "    def forward(self, x_user_input, x_item_input):\n",
    "        user_embedding = self.user_input_layer(x_user_input)\n",
    "        item_emebdding = self.item_input_layer(x_item_input)\n",
    "\n",
    "        fc_layer_input = torch.cat([user_embedding, item_emebdding], 1)\n",
    "        out = self.modules(fc_layer_input)\n",
    "\n",
    "        return out\n"
   ]
  }
 ]
}