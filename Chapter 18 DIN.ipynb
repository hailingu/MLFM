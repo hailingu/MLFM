{
 "metadata": {
  "language_info": {
   "codemirror_mode": {
    "name": "ipython",
    "version": 3
   },
   "file_extension": ".py",
   "mimetype": "text/x-python",
   "name": "python",
   "nbconvert_exporter": "python",
   "pygments_lexer": "ipython3",
   "version": 3
  },
  "orig_nbformat": 2
 },
 "nbformat": 4,
 "nbformat_minor": 2,
 "cells": [
  {
   "cell_type": "markdown",
   "metadata": {},
   "source": [
    "# DIN\n",
    "\n",
    "先实现一个 Base Model, Base Model 只是一个framework，并不能真正的运行。同时这里的 DIN 也不能运行，但是能充分体现 DIN 的思想。"
   ]
  },
  {
   "cell_type": "code",
   "execution_count": null,
   "metadata": {},
   "outputs": [],
   "source": [
    "class BaseEmbedding(nn.Module):\n",
    "    def __init__(self, fields_config):\n",
    "        super(BaseEmbedding, self).__init__()\n",
    "        self.user_profile_fields_config = fields_config\n",
    "\n",
    "        self.user_profile_fields_embedding_layer = {}\n",
    "        self.output_dimension = 0\n",
    "        for field in self.user_profile_fields_config.keys():\n",
    "            field_info = self.user_profile_fields_config[field]\n",
    "            field_index = field_info['field_index']\n",
    "            field_embedding_size = field_info['embedding_size']\n",
    "            self.user_profile_fields_embedding_layer[field_index] = nn.Embedding(len(field_info['features']),\n",
    "                                                                                 field_embedding_size)\n",
    "            self.output_dimension += field_embedding_size\n",
    "\n",
    "    def forward(self, x):\n",
    "        out = torch.zeros(self.output_dimension, x.shape[1])\n",
    "        idx = 0\n",
    "        for field in self.fields_dict.keys():\n",
    "            field_info = self.fields_dict[field]\n",
    "            field_index = field_info['field_index']\n",
    "            field_embedding_size = field_info['embedding_size']\n",
    "            out[idx:idx + field_embedding_size, :] = self.fields_embedding[field_index](x[field_index, :])\n",
    "            idx += field_embedding_size\n",
    "        return out.double()\n",
    "\n",
    "\n",
    "class BaseModel(nn.Module):\n",
    "    def __init__(self, user_profile_fields_config, goods_fields_config, candidate_ad_fields_config,\n",
    "                 context_fields_config, n=10):\n",
    "        super(BaseModel, self).__init__()\n",
    "        self.user_profile_feature_embedding = BaseEmbedding(user_profile_fields_config)\n",
    "        self.n = 10\n",
    "        self.goods_embedding = []\n",
    "        for i in range(self.n):\n",
    "            self.goods_embedding.append(BaseEmbedding(goods_fields_config))\n",
    "\n",
    "        self.candidate_ad_embedding = BaseEmbedding(candidate_ad_fields_config)\n",
    "        self.context_embedding = BaseEmbedding(context_fields_config)\n",
    "\n",
    "        self.PReReLU_input_dimension = self.user_profile_feature_embedding.output_dimension + self.goods_embedding[\n",
    "            0].output_dimension + self.candidate_ad_embedding.output_dimension + self.context_embedding.output_dimension +\n",
    "\n",
    "        self.PReRelU = nn.Sequential(\n",
    "            nn.Linear(self.PReReLU_input_dimension, 200, bias=True).double(),\n",
    "            nn.PReLU(),\n",
    "            nn.Linear(200, 80, bias=True),\n",
    "            nn.PReLU(),\n",
    "            nn.Softmax(2)\n",
    "        )\n",
    "\n",
    "        def forward(self, x):\n",
    "            user_profile_embedding_out = self.user_profile_feature_embedding(x)\n",
    "            context_embedding_out = self.context_embedding(x)\n",
    "            candidate_ad_embedding_out = self.candidate_ad_embedding(x)\n",
    "            good_sum_out = torch.zeros(self.goods_embedding[\n",
    "                                           0].output_dimension, x.shape[1])\n",
    "            for layer in self.goods_embedding:\n",
    "                good_sum_out += layer(x)\n",
    "            \n",
    "            good_sum_out /= self.n\n",
    "            out = torch.cat(\n",
    "                [user_profile_embedding_out, good_sum_out, candidate_ad_embedding_out, context_embedding_out], 1)\n",
    "            return self.PReRelU(out)\n"
   ]
  },
  {
   "cell_type": "markdown",
   "metadata": {},
   "source": [
    "有了 Base Model，就可以很容易实现 DIN 了，需要在 goods embedding 的输出部分，添加 attention 模块。"
   ]
  },
  {
   "cell_type": "code",
   "execution_count": null,
   "metadata": {},
   "outputs": [],
   "source": []
  }
 ]
}