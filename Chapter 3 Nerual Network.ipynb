{
 "nbformat": 4,
 "nbformat_minor": 2,
 "metadata": {
  "language_info": {
   "name": "python",
   "codemirror_mode": {
    "name": "ipython",
    "version": 3
   }
  },
  "orig_nbformat": 2,
  "file_extension": ".py",
  "mimetype": "text/x-python",
  "name": "python",
  "npconvert_exporter": "python",
  "pygments_lexer": "ipython3",
  "version": 3
 },
 "cells": [
  {
   "cell_type": "markdown",
   "metadata": {},
   "source": [
    "# Nerual Network"
   ]
  },
  {
   "cell_type": "markdown",
   "metadata": {},
   "source": [
    "在 Nerual Network 之前，有一个叫做 Perceptron 的算法。Perceptron 是一个线性二元分类器。单个 Perceptron 的功能应用场景是很有限，但是人们通过横向和纵向堆叠 Perceptron 得到了比单个 Perceptron 功能更加强大的模型，"
   ]
  }
 ]
}