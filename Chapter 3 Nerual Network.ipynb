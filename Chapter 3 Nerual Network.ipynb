{
 "nbformat": 4,
 "nbformat_minor": 2,
 "metadata": {
  "language_info": {
   "name": "python",
   "codemirror_mode": {
    "name": "ipython",
    "version": 3
   }
  },
  "orig_nbformat": 2,
  "file_extension": ".py",
  "mimetype": "text/x-python",
  "name": "python",
  "npconvert_exporter": "python",
  "pygments_lexer": "ipython3",
  "version": 3
 },
 "cells": [
  {
   "cell_type": "markdown",
   "metadata": {},
   "source": [
    "# Nerual Network"
   ]
  },
  {
   "cell_type": "markdown",
   "metadata": {},
   "source": [
    "在 Nerual Network 之前，有一个叫做 Perceptron 的算法。Perceptron 是一个线性二元分类器。单个 Perceptron 的功能应用场景是很有限，但是人们通过横向和纵向堆叠 Perceptron 得到了比单个 Perceptron 功能更加强大的模型，之前别人把这种透过堆叠方式得到的模型，叫做 Multi Layer Perceptron，但是现如今它有了一个更加闪亮的名字 Nerual Network。在 Chapter 1 的时候提到，Neural Network 曾今在 1970s 是 Machine Learning 的希望，但是那个时代受限于计算能力、存储能力以及高质量的数据，人们可以设计 Nerual Network，但是没办法训练，验证最后的模型是否正确。"
   ]
  },
  {
   "cell_type": "markdown",
   "metadata": {},
   "source": [
    "## Perceptron"
   ]
  },
  {
   "cell_type": "markdown",
   "metadata": {},
   "source": []
  }
 ]
}