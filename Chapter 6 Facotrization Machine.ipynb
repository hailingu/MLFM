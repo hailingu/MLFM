{
 "cells": [
  {
   "cell_type": "markdown",
   "metadata": {},
   "source": [
    "# Factorization Machine\n",
    "\n",
    "之前的　Linear Regression 的形式是形如　$\\hat{y}= w^T x$，Factorization Machine 在　Linear Regression　的基础之上添加了所谓的交叉项，即　$c_{ij}x_ix_j$, 即　$\\hat{y} = w_1x_1 + \\ldots + w_fx_f + \\sum_{p=1}^{f-1} \\sum_{q=p+1}^{f} c_{pq}x_px_q$，由于有些交叉项在实际中并不存在，所以使用向量相乘的办法，用一个　$k \\times f$　的矩阵，从中任选两个向量 $v_i, v_j$　相乘作为系数，从　$n$　个向量中任选两个相乘构成的系数个数一共有 $C_f^2 = \\frac{f(f-1)}{2}$　个，刚好等于后面交叉项的数量。\n",
    "\n",
    "最后的交叉项可以写成　$\\sum_{p=1}^{f-1} \\sum_{q=p+1}^{f} c_{pq}x_px_q = \\frac{1}{2}(\\sum_{p=1}^f \\sum_{q=1}^f c_{pq}x_px_q - \\sum_p^f v_p^2x_p^2)=\\frac{1}{2} \\sum_u^k[(\\sum_p^fv_{p,u}x_p)(\\sum_q^f v_{q,u}x_q) - (\\sum_p^f v_{p, u}^2x_p^2)]= \\frac{1}{2} \\sum_u^k[(\\sum_p^fv_{p,u}x_p)^2- (\\sum_p^f v_{p, u}^2x_p^2)]$，降低计算复杂度。\n",
    "\n",
    "其中 $c_{ij} = v_i \\times v_j$\n",
    "\n",
    "计算　Loss 采用的函数仍是　MSE，即　$loss = \\frac{1}{2} \\sum_i^n(\\hat{y}_i - y_i)^2$\n",
    "\n",
    "Gradient 的计算及更新：\n",
    "\n",
    "$\\begin{align*}\n",
    "w_i & = w_i - \\eta \\cdot [\\sum_i^n x_i \\cdot (\\hat{y_i} - y_i) ] \\\\\n",
    "v_{p,u} & = v_{p,u} - \\eta \\cdot \\sum_i^n [(\\hat{y_i} - y_i) \\cdot (x_{i, p} \\sum_p^f v_{p, u} x_{i, p} - x_{i, p}^2v_{p, u})]\n",
    "\\end{align*}$\n",
    "\n",
    "Factorization Machine 是一个适用于回归场景的算法。为了演示这个算法，采用典型的　Boston Housing 的数据集。"
   ]
  },
  {
   "cell_type": "code",
   "execution_count": 1,
   "metadata": {},
   "outputs": [],
   "source": [
    "# load boston housing \n",
    "\n",
    "from sklearn.datasets import load_boston\n",
    "import numpy as np\n",
    "\n",
    "\n",
    "boston = load_boston()\n",
    "X = boston.data\n",
    "y = boston.target"
   ]
  },
  {
   "cell_type": "code",
   "execution_count": 2,
   "metadata": {},
   "outputs": [],
   "source": [
    "import pandas as pd\n",
    "\n",
    "boston_df = pd.DataFrame(X, columns=boston.feature_names)\n",
    "\n",
    "# z-score\n",
    "for feature in boston.feature_names:\n",
    "    boston_df[feature] = (boston_df[feature] - boston_df[feature].mean()) / boston_df[feature].std()\n",
    "\n",
    "# min-max\n",
    "for feature in boston.feature_names:\n",
    "    boston_df[feature] = (boston_df[feature] - boston_df[feature].min()) / (boston_df[feature].max() - boston_df[feature].min())\n",
    "\n",
    "X = np.c_[boston_df.values, np.ones(X.shape[0])]"
   ]
  },
  {
   "cell_type": "code",
   "execution_count": 1,
   "metadata": {},
   "outputs": [
    {
     "output_type": "error",
     "ename": "NameError",
     "evalue": "name 'X' is not defined",
     "traceback": [
      "\u001b[1;31m---------------------------------------------------------------------------\u001b[0m",
      "\u001b[1;31mNameError\u001b[0m                                 Traceback (most recent call last)",
      "\u001b[1;32m<ipython-input-1-301aa5c93bca>\u001b[0m in \u001b[0;36m<module>\u001b[1;34m\u001b[0m\n\u001b[0;32m      9\u001b[0m \u001b[0mPRINT_INTERVAL\u001b[0m \u001b[1;33m=\u001b[0m \u001b[0mEPOCH\u001b[0m \u001b[1;33m/\u001b[0m \u001b[0mPRINT_NUMS\u001b[0m\u001b[1;33m\u001b[0m\u001b[1;33m\u001b[0m\u001b[0m\n\u001b[0;32m     10\u001b[0m \u001b[1;33m\u001b[0m\u001b[0m\n\u001b[1;32m---> 11\u001b[1;33m \u001b[0mf\u001b[0m \u001b[1;33m=\u001b[0m \u001b[0mX\u001b[0m\u001b[1;33m.\u001b[0m\u001b[0mshape\u001b[0m\u001b[1;33m[\u001b[0m\u001b[1;36m1\u001b[0m\u001b[1;33m]\u001b[0m \u001b[1;33m-\u001b[0m \u001b[1;36m1\u001b[0m\u001b[1;33m\u001b[0m\u001b[1;33m\u001b[0m\u001b[0m\n\u001b[0m\u001b[0;32m     12\u001b[0m \u001b[1;33m\u001b[0m\u001b[0m\n\u001b[0;32m     13\u001b[0m \u001b[0mw\u001b[0m \u001b[1;33m=\u001b[0m \u001b[0mnp\u001b[0m\u001b[1;33m.\u001b[0m\u001b[0mrandom\u001b[0m\u001b[1;33m.\u001b[0m\u001b[0muniform\u001b[0m\u001b[1;33m(\u001b[0m\u001b[1;36m0\u001b[0m\u001b[1;33m,\u001b[0m \u001b[1;36m1\u001b[0m\u001b[1;33m,\u001b[0m \u001b[0msize\u001b[0m\u001b[1;33m=\u001b[0m\u001b[1;33m(\u001b[0m\u001b[1;36m1\u001b[0m\u001b[1;33m,\u001b[0m \u001b[0mf\u001b[0m \u001b[1;33m+\u001b[0m \u001b[1;36m1\u001b[0m\u001b[1;33m)\u001b[0m\u001b[1;33m)\u001b[0m\u001b[1;33m\u001b[0m\u001b[1;33m\u001b[0m\u001b[0m\n",
      "\u001b[1;31mNameError\u001b[0m: name 'X' is not defined"
     ]
    }
   ],
   "source": [
    "k = 6\n",
    "\n",
    "LEARNING_RATE = 1e-7\n",
    "EPOCH = 10\n",
    "\n",
    "BATCH_SIZE = 10\n",
    "\n",
    "PRINT_NUMS = 20\n",
    "PRINT_INTERVAL = EPOCH / PRINT_NUMS\n",
    "\n",
    "f = X.shape[1] - 1\n",
    "\n",
    "w = np.random.uniform(0, 1, size=(1, f + 1))\n",
    "v = np.random.uniform(0, 1, size=(k, f))\n",
    "\n",
    "\n",
    "for epoch in range(EPOCH):\n",
    "    index = np.random.randint(0, X.shape[0], size=BATCH_SIZE)\n",
    "    sample_x = X[index]\n",
    "    sample_y = y[index]\n",
    "\n",
    "    # linear part\n",
    "    linear_part = np.dot(w, sample_x.T)\n",
    "\n",
    "    # cross part\n",
    "    # cross_part = 0\n",
    "    # for f in range(k):\n",
    "    #     cross_part += (np.dot(v[f,:], sample_x[0,0:n]) - np.dot(np.power(v[f,:], 2), np.power(sample_x[0,0:n], 2)))\n",
    "\n",
    "    y_hat = linear_part\n",
    "    loss = y_hat - sample_y\n",
    "\n",
    "    # update gradient\n",
    "    # w = w - LEARNING_RATE * loss * sample_x\n",
    "    # for i in range(n):\n",
    "    #     for f in range(k):    \n",
    "    #         v[f,i] = v[f,i] - LEARNING_RATE * loss * (sample_x[0,i] * np.dot(v[f,:], sample_x[0,0:n]) - v[f,i] * sample_x[0,i]**2)\n",
    "\n",
    "    # if epoch % PRINT_INTERVAL == 0:\n",
    "    #     print('EPOCH: %d, loss: %f' % (epoch, loss**2))"
   ]
  },
  {
   "cell_type": "code",
   "execution_count": null,
   "metadata": {},
   "outputs": [],
   "source": []
  }
 ],
 "metadata": {
  "language_info": {
   "codemirror_mode": {
    "name": "ipython",
    "version": 3
   },
   "file_extension": ".py",
   "mimetype": "text/x-python",
   "name": "python",
   "nbconvert_exporter": "python",
   "pygments_lexer": "ipython3",
   "version": "3.7.1-final"
  },
  "orig_nbformat": 2,
  "kernelspec": {
   "name": "python37164bitdef91c2fd1174c6ba0656be6dd2b0bc1",
   "display_name": "Python 3.7.1 64-bit"
  }
 },
 "nbformat": 4,
 "nbformat_minor": 2
}