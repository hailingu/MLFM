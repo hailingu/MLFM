{
 "cells": [
  {
   "cell_type": "markdown",
   "metadata": {
    "collapsed": true
   },
   "source": [
    "# GBDT + LR\n",
    "\n",
    "在这个组合中，GBDT 完全被用作是特征工程组件，每一条数据 $x$ 在输入到 GBDT 后，例如 GBDT 中的一棵树的最左边的叶子节点被激活，那么该树需要输出所有叶子节点的向量  $[1, 0, 0, 0]$（假如有 4 个叶子节点），同样的，GBDT 中的下一颗树，可能是最右边的叶子节点被激活（假如这棵树仍然有 4 个叶子节点），那么这棵树需要输出向量 $[0, 0, 0, 1]$，输入数据这样经过 GBDT 处理后，可以得到一组向量，把这些向量拼接起来，作为 LR 的输入。\n",
    "\n",
    "在这个特征组合方案中，GBDT 和 LR 模型是分开训练的，所以训练过程相对的比较简单。唯一要处理的是获取经过 GBDT 处理的特征。\n"
   ]
  },
  {
   "cell_type": "code",
   "execution_count": 1,
   "metadata": {
    "tags": []
   },
   "outputs": [],
   "source": [
    "import os\n",
    "import numpy as np\n",
    "from scipy.sparse import coo_matrix\n",
    "\n",
    "BASEDIR = os.getcwd()\n",
    "row = []\n",
    "col = []\n",
    "data = []\n",
    "y = []\n",
    "\n",
    "col_cnt = -1\n",
    "\n",
    "idx = 0\n",
    "with open(BASEDIR + '/assets/datasets/criteo_ctr/small_train.txt') as f:\n",
    "    line = f.readline()\n",
    "    line = line.strip('\\n')\n",
    "    while line:\n",
    "        elems = line.split(' ')\n",
    "        y.append(int(elems[0]))\n",
    "        for i in range(1, len(elems)):\n",
    "            field, feature, value = elems[i].split(':')\n",
    "            col_cnt = max(col_cnt, int(feature))\n",
    "            row.append(idx)\n",
    "            col.append(int(feature))\n",
    "            data.append(float(value))\n",
    "            \n",
    "        line = f.readline()\n",
    "        idx += 1\n",
    "\n",
    "X_train = coo_matrix((np.array(data), (np.array(row), np.array(col))), shape=(idx, col_cnt + 1), dtype=float)\n",
    "y_train = np.array(y)\n",
    "\n",
    "\n",
    "row = []\n",
    "col = []\n",
    "data = []\n",
    "y = []\n",
    "\n",
    "idx = 0\n",
    "with open(BASEDIR + '/assets/datasets/criteo_ctr/small_test.txt') as f:\n",
    "    line = f.readline()\n",
    "    line = line.strip('\\n')\n",
    "    while line:\n",
    "        elems = line.split(' ')\n",
    "        y.append(int(elems[0]))\n",
    "        for i in range(1, len(elems)):\n",
    "            field, feature, value = elems[i].split(':')\n",
    "            col_cnt = max(col_cnt, int(feature))\n",
    "            row.append(idx)\n",
    "            col.append(int(feature))\n",
    "            data.append(float(value))\n",
    "            \n",
    "        line = f.readline()\n",
    "        idx += 1\n",
    "\n",
    "X_test = coo_matrix((np.array(data), (np.array(row), np.array(col))), shape=(idx, col_cnt + 1), dtype=float)\n",
    "y_test = np.array(y)"
   ]
  },
  {
   "cell_type": "code",
   "execution_count": 2,
   "metadata": {},
   "outputs": [],
   "source": [
    "# sklearn version\n",
    "from sklearn.ensemble import GradientBoostingClassifier\n",
    "\n",
    "n_estimators = 50\n",
    "gbm = GradientBoostingClassifier(n_estimators=n_estimators, random_state=10, subsample=0.6, max_depth=5,\n",
    "                                  min_samples_split=4)\n",
    "\n",
    "gbm.fit(X_train, y_train)\n",
    "X_train = gbm.apply(X_train)\n",
    "X_test = gbm.apply(X_test)"
   ]
  },
  {
   "cell_type": "code",
   "execution_count": null,
   "outputs": [],
   "source": [
    "from sklearn.preprocessing import OneHotEncoder\n",
    "\n",
    "ohe = OneHotEncoder()\n",
    "X_train = X_train.reshape(-1, n_estimators)\n",
    "X_test = X_test.reshape(-1, n_estimators)\n",
    "ohe.fit(X_train)\n",
    "X_train = np.array(ohe.transform(X_train).toarray())\n",
    "X_test = np.array(ohe.transform(X_test).toarray())"
   ],
   "metadata": {
    "collapsed": false,
    "pycharm": {
     "name": "#%%\n"
    }
   }
  },
  {
   "cell_type": "code",
   "execution_count": null,
   "outputs": [],
   "source": [
    "from sklearn.linear_model import LogisticRegression\n",
    "\n",
    "lr = LogisticRegression()\n",
    "lr.fit(X_train, y_train)\n",
    "print ('Accuracy of GBDT + LR: %f' % lr.score(X_test, y_test))"
   ],
   "metadata": {
    "collapsed": false,
    "pycharm": {
     "name": "#%%\n"
    }
   }
  }
 ],
 "metadata": {
  "kernelspec": {
   "display_name": "Python 3.6.8 64-bit ('mlfm': conda)",
   "language": "python",
   "name": "python36864bitmlfmcondafca915a6e1ae4fb7ab8b19f2bd50bf32"
  },
  "language_info": {
   "codemirror_mode": {
    "name": "ipython",
    "version": 2
   },
   "file_extension": ".py",
   "mimetype": "text/x-python",
   "name": "python",
   "nbconvert_exporter": "python",
   "pygments_lexer": "ipython2",
   "version": "3.6.8-final"
  }
 },
 "nbformat": 4,
 "nbformat_minor": 0
}