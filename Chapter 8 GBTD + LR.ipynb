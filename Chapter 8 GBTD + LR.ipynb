{
 "cells": [
  {
   "cell_type": "markdown",
   "metadata": {
    "collapsed": true
   },
   "source": [
    "# GBDT + LR\n",
    "\n",
    "在这个组合中，GBDT 完全被用作是特征工程组件，每一条数据 $x$ 在输入到 GBDT 后，例如 GBDT 中的一棵树的最左边的叶子节点被激活，那么该树需要输出所有叶子节点的向量  $[1, 0, 0, 0]$（假如有 4 个叶子节点），同样的，GBDT 中的下一颗树，可能是最右边的叶子节点被激活（假如这棵树仍然有 4 个叶子节点），那么这棵树需要输出向量 $[0, 0, 0, 1]$，输入数据这样经过 GBDT 处理后，可以得到一组向量，把这些向量拼接起来，作为 LR 的输入。\n",
    "\n",
    "在这个特征组合方案中，GBDT 和 LR 模型是分开训练的，所以训练过程相对的比较简单。\n"
   ]
  },
  {
   "cell_type": "code",
   "execution_count": 1,
   "metadata": {},
   "outputs": [],
   "source": [
    "# sklearn version\n",
    "\n",
    "from sklearn.ensemble import GradientBoostingClassifier\n"
   ]
  }
 ],
 "metadata": {
  "kernelspec": {
   "display_name": "Python 3.6.8 64-bit ('mlfm': conda)",
   "language": "python",
   "name": "python36864bitmlfmcondafca915a6e1ae4fb7ab8b19f2bd50bf32"
  },
  "language_info": {
   "codemirror_mode": {
    "name": "ipython",
    "version": 2
   },
   "file_extension": ".py",
   "mimetype": "text/x-python",
   "name": "python",
   "nbconvert_exporter": "python",
   "pygments_lexer": "ipython2",
   "version": "3.6.8-final"
  }
 },
 "nbformat": 4,
 "nbformat_minor": 0
}